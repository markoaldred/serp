{
 "cells": [
  {
   "cell_type": "code",
   "execution_count": 4,
   "metadata": {},
   "outputs": [
    {
     "name": "stdout",
     "output_type": "stream",
     "text": [
      "On branch master\n",
      "Your branch is ahead of 'origin/master' by 3 commits.\n",
      "  (use \"git push\" to publish your local commits)\n",
      "\n",
      "Changes to be committed:\n",
      "  (use \"git reset HEAD <file>...\" to unstage)\n",
      "\n",
      "\t\u001b[32mmodified:   .ipython/profile_default/history.sqlite\u001b[m\n",
      "\n",
      "[master ab7f88e] version title\n",
      " 1 file changed, 0 insertions(+), 0 deletions(-)\n",
      "fatal: unable to access 'https://markoaldred:T%|QHYQVdh+!PHgXBiLNGYg)/@bdq&@github.com/markoaldred/serp.git/': Port number ended with 'T'\n"
     ]
    }
   ],
   "source": [
    "!git add .\n",
    "!git status\n",
    "!git commit -m \"version title\"\n",
    "!git push 'https://markoaldred:T%|QHYQVdh+!PHgXBiLNGYg)/@bdq&@github.com/markoaldred/serp.git' --all"
   ]
  }
 ],
 "metadata": {
  "kernelspec": {
   "display_name": "Python 3",
   "language": "python",
   "name": "python3"
  },
  "language_info": {
   "codemirror_mode": {
    "name": "ipython",
    "version": 3
   },
   "file_extension": ".py",
   "mimetype": "text/x-python",
   "name": "python",
   "nbconvert_exporter": "python",
   "pygments_lexer": "ipython3",
   "version": "3.7.8"
  }
 },
 "nbformat": 4,
 "nbformat_minor": 4
}
