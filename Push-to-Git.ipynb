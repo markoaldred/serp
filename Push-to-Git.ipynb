{
 "cells": [
  {
   "cell_type": "code",
   "execution_count": 1,
   "metadata": {},
   "outputs": [
    {
     "name": "stdout",
     "output_type": "stream",
     "text": [
      "On branch master\n",
      "Your branch is up to date with 'origin/master'.\n",
      "\n",
      "Changes to be committed:\n",
      "  (use \"git reset HEAD <file>...\" to unstage)\n",
      "\n",
      "\t\u001b[32mnew file:   .cache/jedi/CPython-37-33/593d51111df2a7984c5d14ec09b1fb4e1c5fa86889ca077d5efe8caf989e2ebc-823a873ed0c9179001521fbc584f598494b95078edd4841e165d8b30df424d0a.pkl\u001b[m\n",
      "\t\u001b[32mnew file:   .cache/jedi/CPython-37-33/593d51111df2a7984c5d14ec09b1fb4e1c5fa86889ca077d5efe8caf989e2ebc-8f10d5b5db374252c3ff316a81c5d3c565dfab5ba938ea42be9db353d20da8a6.pkl\u001b[m\n",
      "\t\u001b[32mnew file:   .cache/jedi/CPython-37-33/593d51111df2a7984c5d14ec09b1fb4e1c5fa86889ca077d5efe8caf989e2ebc-a27a920c4b0b8f2aabd31adc5ce7a2c6853f33721255ecef98b0cce8640b476c.pkl\u001b[m\n",
      "\t\u001b[32mnew file:   .cache/jedi/CPython-37-33/593d51111df2a7984c5d14ec09b1fb4e1c5fa86889ca077d5efe8caf989e2ebc-eebabc0f94c4cfc4192ee9a595540a510b3459691e10f7f70f3528cfa295ba73.pkl\u001b[m\n",
      "\t\u001b[32mnew file:   .cache/jedi/PARSO-CACHE-LOCK\u001b[m\n",
      "\t\u001b[32mrenamed:    Untitled.ipynb -> .ipynb_checkpoints/Push-to-Git-checkpoint.ipynb\u001b[m\n",
      "\t\u001b[32mdeleted:    .ipynb_checkpoints/Untitled-checkpoint.ipynb\u001b[m\n",
      "\t\u001b[32mmodified:   .ipython/profile_default/history.sqlite\u001b[m\n",
      "\t\u001b[32mnew file:   .jupyter/migrated\u001b[m\n",
      "\t\u001b[32mmodified:   .local/share/jupyter/nbsignatures.db\u001b[m\n",
      "\t\u001b[32mnew file:   .local/share/jupyter/runtime/kernel-837dc511-b56e-4646-969a-a87a228549b7.json\u001b[m\n",
      "\t\u001b[32mmodified:   .local/share/jupyter/runtime/nbserver-1-open.html\u001b[m\n",
      "\t\u001b[32mmodified:   .local/share/jupyter/runtime/nbserver-1.json\u001b[m\n",
      "\t\u001b[32mnew file:   Push-to-Git.ipynb\u001b[m\n",
      "\n",
      "[master f4ec5e4] version title\n",
      " 14 files changed, 62 insertions(+), 13 deletions(-)\n",
      " create mode 100644 .cache/jedi/CPython-37-33/593d51111df2a7984c5d14ec09b1fb4e1c5fa86889ca077d5efe8caf989e2ebc-823a873ed0c9179001521fbc584f598494b95078edd4841e165d8b30df424d0a.pkl\n",
      " create mode 100644 .cache/jedi/CPython-37-33/593d51111df2a7984c5d14ec09b1fb4e1c5fa86889ca077d5efe8caf989e2ebc-8f10d5b5db374252c3ff316a81c5d3c565dfab5ba938ea42be9db353d20da8a6.pkl\n",
      " create mode 100644 .cache/jedi/CPython-37-33/593d51111df2a7984c5d14ec09b1fb4e1c5fa86889ca077d5efe8caf989e2ebc-a27a920c4b0b8f2aabd31adc5ce7a2c6853f33721255ecef98b0cce8640b476c.pkl\n",
      " create mode 100644 .cache/jedi/CPython-37-33/593d51111df2a7984c5d14ec09b1fb4e1c5fa86889ca077d5efe8caf989e2ebc-eebabc0f94c4cfc4192ee9a595540a510b3459691e10f7f70f3528cfa295ba73.pkl\n",
      " create mode 100644 .cache/jedi/PARSO-CACHE-LOCK\n",
      " rename Untitled.ipynb => .ipynb_checkpoints/Push-to-Git-checkpoint.ipynb (72%)\n",
      " delete mode 100644 .ipynb_checkpoints/Untitled-checkpoint.ipynb\n",
      " create mode 100644 .jupyter/migrated\n",
      " create mode 100644 .local/share/jupyter/runtime/kernel-837dc511-b56e-4646-969a-a87a228549b7.json\n",
      " create mode 100644 Push-to-Git.ipynb\n",
      "/bin/bash: -c: line 0: syntax error near unexpected token `)'\n",
      "/bin/bash: -c: line 0: `git push https://markoaldred:T%|QHYQVdh+!PHgXBiLNGYg)/@github.com/markoaldred/serp.git --all'\n"
     ]
    }
   ],
   "source": [
    "!git add .\n",
    "!git status\n",
    "!git commit -m \"version title\"\n",
    "!git push https://markoaldred:''@github.com/markoaldred/serp.git --all"
   ]
  }
 ],
 "metadata": {
  "kernelspec": {
   "display_name": "Python 3",
   "language": "python",
   "name": "python3"
  },
  "language_info": {
   "codemirror_mode": {
    "name": "ipython",
    "version": 3
   },
   "file_extension": ".py",
   "mimetype": "text/x-python",
   "name": "python",
   "nbconvert_exporter": "python",
   "pygments_lexer": "ipython3",
   "version": "3.7.8"
  }
 },
 "nbformat": 4,
 "nbformat_minor": 4
}
