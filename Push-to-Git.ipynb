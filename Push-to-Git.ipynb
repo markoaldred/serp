{
 "cells": [
  {
   "cell_type": "code",
   "execution_count": 5,
   "metadata": {},
   "outputs": [
    {
     "name": "stdout",
     "output_type": "stream",
     "text": [
      "On branch master\n",
      "Your branch is ahead of 'origin/master' by 4 commits.\n",
      "  (use \"git push\" to publish your local commits)\n",
      "\n",
      "Changes to be committed:\n",
      "  (use \"git reset HEAD <file>...\" to unstage)\n",
      "\n",
      "\t\u001b[32mnew file:   .ipython/profile_default/history.sqlite-journal\u001b[m\n",
      "\t\u001b[32mmodified:   .local/share/jupyter/nbsignatures.db\u001b[m\n",
      "\t\u001b[32mmodified:   Push-to-Git.ipynb\u001b[m\n",
      "\n",
      "Changes not staged for commit:\n",
      "  (use \"git add/rm <file>...\" to update what will be committed)\n",
      "  (use \"git checkout -- <file>...\" to discard changes in working directory)\n",
      "\n",
      "\t\u001b[31mmodified:   .ipython/profile_default/history.sqlite\u001b[m\n",
      "\t\u001b[31mdeleted:    .ipython/profile_default/history.sqlite-journal\u001b[m\n",
      "\n",
      "[master 285458a] version title\n",
      " 3 files changed, 56 insertions(+), 79 deletions(-)\n",
      " create mode 100644 .ipython/profile_default/history.sqlite-journal\n",
      " rewrite Push-to-Git.ipynb (77%)\n",
      "/bin/bash: -c: line 0: syntax error near unexpected token `)'\n",
      "/bin/bash: -c: line 0: `git push https://markoaldred@gmail.com:T%|QHYQVdh+!PHgXBiLNGYg)/@bdq&@github.com/markoaldred/serp.git --all'\n"
     ]
    }
   ],
   "source": [
    "!git add .\n",
    "!git status\n",
    "!git commit -m \"version title\"\n",
    "!git push https://markoaldred:T%|QHYQVdh+!PHgXBiLNGYg)/@bdq&@github.com/markoaldred/serp.git --all"
   ]
  }
 ],
 "metadata": {
  "kernelspec": {
   "display_name": "Python 3",
   "language": "python",
   "name": "python3"
  },
  "language_info": {
   "codemirror_mode": {
    "name": "ipython",
    "version": 3
   },
   "file_extension": ".py",
   "mimetype": "text/x-python",
   "name": "python",
   "nbconvert_exporter": "python",
   "pygments_lexer": "ipython3",
   "version": "3.7.8"
  }
 },
 "nbformat": 4,
 "nbformat_minor": 4
}
